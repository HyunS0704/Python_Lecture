{
 "cells": [
  {
   "cell_type": "code",
   "execution_count": null,
   "metadata": {},
   "outputs": [],
   "source": [
    "import requests\n",
    "from bs4 import BeautifulSoup\n",
    "\n",
    "url ='https://search.naver.com/search.naver'\n",
    "params={\n",
    "    'where':'news',\n",
    "    'query':'명절+증후군'\n",
    "}\n",
    "resp=requests.get(url, params=params)\n",
    "soup = BeautifulSoup(resp.content)\n",
    "\n",
    "\n",
    "ul_tag = soup.find('ul', class_='type01')\n",
    "news_items =ul_tag.find_all('li',recursive=False)\n",
    "result_list=[]\n",
    "for news_item in news_items:\n",
    "    img_tag = news_item.find('img')\n",
    "    if img_tag:\n",
    "        img = img_tag.get('src')\n",
    "    else:\n",
    "        img=''\n",
    "    \n",
    "    title_a=news_item.find('a', class_='_sp_each_title')\n",
    "    \n",
    "    title=title_a.text\n",
    "    link=title_a.get('href')\n",
    "    \n",
    "    result_list.append({\n",
    "        'title':title,\n",
    "        'link':link,\n",
    "        'img_src':img\n",
    "    })\n",
    "result_list"
   ]
  },
  {
   "cell_type": "markdown",
   "metadata": {},
   "source": [
    "### version select"
   ]
  },
  {
   "cell_type": "code",
   "execution_count": null,
   "metadata": {},
   "outputs": [],
   "source": [
    "new_tag = soup.select('ul.type01>li')\n",
    "new_tag"
   ]
  },
  {
   "cell_type": "code",
   "execution_count": null,
   "metadata": {},
   "outputs": [],
   "source": [
    "result_list=[]\n",
    "for news_item in news_items:\n",
    "    img_tag=news_item.select('div.thumb img')\n",
    "    title_tag=news_item.select('a._sp_each_title')\n",
    "    \n",
    "    if img_tag:\n",
    "        img=img_tag[0].get('src')\n",
    "    else:\n",
    "\n",
    "        img=''\n",
    "    title=title_tag[0].text\n",
    "    link=title_tag[0].get('href')\n",
    "    \n",
    "    result_list.append({\n",
    "        'title':title,\n",
    "        'link':link,\n",
    "        'img':img\n",
    "    })\n",
    "result_list"
   ]
  },
  {
   "cell_type": "code",
   "execution_count": null,
   "metadata": {},
   "outputs": [],
   "source": [
    "sample_img=result_list[0]['img']\n",
    "sample_img"
   ]
  },
  {
   "cell_type": "code",
   "execution_count": null,
   "metadata": {},
   "outputs": [],
   "source": [
    "resp=requests.get(sample_img)\n",
    "resp.content"
   ]
  },
  {
   "cell_type": "code",
   "execution_count": null,
   "metadata": {},
   "outputs": [],
   "source": [
    "#컴퓨터에 이미지 파일저장\n",
    "# with 끝나면 파이썬에서 알아서 close함수을 실행\n",
    "with open(\"sample_img.png\",'wb') as f:\n",
    "    f.write(resp.content)"
   ]
  },
  {
   "cell_type": "code",
   "execution_count": null,
   "metadata": {},
   "outputs": [],
   "source": [
    "file=open(\"sample_txt.txt\",\"w\")   # \"w\"는 읽기모드\n",
    "file.write(\"hi\")\n",
    "file.close()"
   ]
  },
  {
   "cell_type": "code",
   "execution_count": null,
   "metadata": {},
   "outputs": [],
   "source": [
    "with open(\"sample_txt.txt\", \"r\") as f:\n",
    "    content = f.read()\n",
    "    print(content)"
   ]
  },
  {
   "cell_type": "code",
   "execution_count": null,
   "metadata": {},
   "outputs": [],
   "source": [
    "#os 모듈사용\n",
    "import os\n",
    "from datetime import datetime"
   ]
  },
  {
   "cell_type": "code",
   "execution_count": null,
   "metadata": {},
   "outputs": [],
   "source": [
    "if not os.path.exists('image'):\n",
    "    os.makedirs('image')\n",
    "img_dir = 'image'"
   ]
  },
  {
   "cell_type": "code",
   "execution_count": null,
   "metadata": {},
   "outputs": [],
   "source": [
    "for idx, news in enumerate(result_list):\n",
    "    result_list[idx]['id'] = idx\n",
    "    \n",
    "    resp = requests.get(news['img'])\n",
    "    \n",
    "    filename = \"{0}.png\".format(idx)\n",
    "    filepath = \"{0}/{1}\".format(img_dir, filename)\n",
    "    \n",
    "    with open(filepath, \"wb\") as f:\n",
    "        f.write(resp.content)\n",
    "        \n",
    "    result_list[idx]['img_path'] = filepath\n",
    "result_list"
   ]
  },
  {
   "cell_type": "markdown",
   "metadata": {},
   "source": [
    "### pandas"
   ]
  },
  {
   "cell_type": "code",
   "execution_count": null,
   "metadata": {},
   "outputs": [],
   "source": [
    "import pandas as pd"
   ]
  },
  {
   "cell_type": "code",
   "execution_count": null,
   "metadata": {
    "scrolled": true
   },
   "outputs": [],
   "source": [
    "news_df = pd.DataFrame(result_list)\n",
    "news_df"
   ]
  },
  {
   "cell_type": "code",
   "execution_count": null,
   "metadata": {},
   "outputs": [],
   "source": [
    "filename = 'newslist.csv'\n",
    "\n",
    "news_df.to_csv(filename, encoding='cp949')"
   ]
  },
  {
   "cell_type": "code",
   "execution_count": null,
   "metadata": {},
   "outputs": [],
   "source": [
    "# 엑셀파일 저장\n",
    "filename = 'newslist.xlsx'\n",
    "news_df.to_excel(filename, encoding='cp949')"
   ]
  },
  {
   "cell_type": "code",
   "execution_count": null,
   "metadata": {},
   "outputs": [],
   "source": []
  },
  {
   "cell_type": "code",
   "execution_count": null,
   "metadata": {},
   "outputs": [],
   "source": [
    "filenaeme = 'newslist.csv'\n",
    "new_df = pd.read_csv(filename, encoding='cp949', index_col=0)\n",
    "new_df"
   ]
  },
  {
   "cell_type": "code",
   "execution_count": null,
   "metadata": {},
   "outputs": [],
   "source": [
    "filename = 'newslist.xlsx'\n",
    "new_df = pd.read_excel(filename, encoding='cp949', index_col=0)\n",
    "new_df"
   ]
  },
  {
   "cell_type": "markdown",
   "metadata": {},
   "source": [
    "## numpy"
   ]
  },
  {
   "cell_type": "code",
   "execution_count": null,
   "metadata": {},
   "outputs": [],
   "source": [
    "import numpy as np\n",
    "np.array([1, 2, 3])"
   ]
  },
  {
   "cell_type": "markdown",
   "metadata": {},
   "source": [
    "* 배열"
   ]
  },
  {
   "cell_type": "code",
   "execution_count": null,
   "metadata": {},
   "outputs": [],
   "source": []
  }
 ],
 "metadata": {
  "kernelspec": {
   "display_name": "Python 3",
   "language": "python",
   "name": "python3"
  },
  "language_info": {
   "codemirror_mode": {
    "name": "ipython",
    "version": 3
   },
   "file_extension": ".py",
   "mimetype": "text/x-python",
   "name": "python",
   "nbconvert_exporter": "python",
   "pygments_lexer": "ipython3",
   "version": "3.7.6"
  }
 },
 "nbformat": 4,
 "nbformat_minor": 2
}
