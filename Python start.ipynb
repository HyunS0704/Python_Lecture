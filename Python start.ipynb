{
 "cells": [
  {
   "cell_type": "markdown",
   "metadata": {},
   "source": [
    "### 1.프린터 하기"
   ]
  },
  {
   "cell_type": "markdown",
   "metadata": {},
   "source": [
    "* 파이썬 기초"
   ]
  },
  {
   "cell_type": "code",
   "execution_count": null,
   "metadata": {},
   "outputs": [],
   "source": [
    "num1=10"
   ]
  },
  {
   "cell_type": "code",
   "execution_count": null,
   "metadata": {},
   "outputs": [],
   "source": [
    "num2=20"
   ]
  },
  {
   "cell_type": "code",
   "execution_count": null,
   "metadata": {},
   "outputs": [],
   "source": [
    "num3=num1+num2"
   ]
  },
  {
   "cell_type": "code",
   "execution_count": null,
   "metadata": {},
   "outputs": [],
   "source": [
    "num3"
   ]
  },
  {
   "cell_type": "code",
   "execution_count": null,
   "metadata": {},
   "outputs": [],
   "source": []
  },
  {
   "cell_type": "code",
   "execution_count": null,
   "metadata": {},
   "outputs": [],
   "source": [
    "num3"
   ]
  },
  {
   "cell_type": "markdown",
   "metadata": {},
   "source": [
    "* 변수의 자료형"
   ]
  },
  {
   "cell_type": "code",
   "execution_count": null,
   "metadata": {},
   "outputs": [],
   "source": [
    "type([1, 2, 3])"
   ]
  },
  {
   "cell_type": "code",
   "execution_count": null,
   "metadata": {},
   "outputs": [],
   "source": [
    "dict1={'name': '신윤수'}\n",
    "type(dict1)"
   ]
  },
  {
   "cell_type": "code",
   "execution_count": null,
   "metadata": {},
   "outputs": [],
   "source": [
    "a=5\n",
    "b=3"
   ]
  },
  {
   "cell_type": "code",
   "execution_count": null,
   "metadata": {},
   "outputs": [],
   "source": [
    "print(a+b)\n",
    "print(a-b)\n",
    "print(a*b)"
   ]
  },
  {
   "cell_type": "markdown",
   "metadata": {},
   "source": [
    "* 연습문제 1"
   ]
  },
  {
   "cell_type": "code",
   "execution_count": null,
   "metadata": {},
   "outputs": [],
   "source": [
    "a=7\n",
    "b=3.0\n",
    "\n",
    "c=a//b\n",
    "d=a%b\n",
    "e=a**b"
   ]
  },
  {
   "cell_type": "code",
   "execution_count": null,
   "metadata": {},
   "outputs": [],
   "source": [
    "mike=80\n",
    "judy=75\n",
    "sera=100"
   ]
  },
  {
   "cell_type": "markdown",
   "metadata": {},
   "source": [
    "* 연습문제 2"
   ]
  },
  {
   "cell_type": "code",
   "execution_count": null,
   "metadata": {},
   "outputs": [],
   "source": [
    "avg=int(mike+judy+sera)/3\n",
    "print(avg)"
   ]
  },
  {
   "cell_type": "markdown",
   "metadata": {},
   "source": [
    "* 연습문제 3"
   ]
  },
  {
   "cell_type": "code",
   "execution_count": null,
   "metadata": {},
   "outputs": [],
   "source": [
    "a = input(\"점수 입력:\")\n",
    "bool(int(a)>65)"
   ]
  },
  {
   "cell_type": "code",
   "execution_count": null,
   "metadata": {},
   "outputs": [],
   "source": [
    "bool(int(a)>65)"
   ]
  },
  {
   "cell_type": "markdown",
   "metadata": {},
   "source": [
    "* Boolean 자료형과 비교/논리 연산자"
   ]
  },
  {
   "cell_type": "code",
   "execution_count": null,
   "metadata": {},
   "outputs": [],
   "source": [
    "a = int(input(\"점수 입력1:\"))\n",
    "b = int(input(\"점수 입력2:\"))\n",
    "c= int(input(\"점수 입력3:\"))"
   ]
  },
  {
   "cell_type": "code",
   "execution_count": null,
   "metadata": {},
   "outputs": [],
   "source": [
    "bool(int (a)>65 or int(b)>65 or int(c)>65)"
   ]
  },
  {
   "cell_type": "code",
   "execution_count": null,
   "metadata": {},
   "outputs": [],
   "source": [
    "intro = \"\"\"안녕하세요 \\n우리는 파이썬을 배우고 있어요\"\"\""
   ]
  },
  {
   "cell_type": "code",
   "execution_count": null,
   "metadata": {},
   "outputs": [],
   "source": [
    "print(intro)"
   ]
  },
  {
   "cell_type": "markdown",
   "metadata": {},
   "source": [
    "* 연습문제 4"
   ]
  },
  {
   "cell_type": "code",
   "execution_count": null,
   "metadata": {
    "scrolled": true
   },
   "outputs": [],
   "source": [
    "a=\"20190505chicken19000\"\n",
    "#code작성\n",
    "year=a[0:4]\n",
    "day=a[4:8]\n",
    "menu=a[8:15]\n",
    "money=a[-5:]\n",
    "print(year)\n",
    "print(day)\n",
    "print(menu)\n",
    "print(money)"
   ]
  },
  {
   "cell_type": "markdown",
   "metadata": {},
   "source": [
    "* 연습문제 5"
   ]
  },
  {
   "cell_type": "code",
   "execution_count": null,
   "metadata": {},
   "outputs": [],
   "source": [
    "a=\"수학점수: %s, 영어점수: %s\" %(math, eng)"
   ]
  },
  {
   "cell_type": "code",
   "execution_count": null,
   "metadata": {},
   "outputs": [],
   "source": [
    "\"수학점수: {}, 영어점수:{}\".format(math, eng)"
   ]
  },
  {
   "cell_type": "markdown",
   "metadata": {},
   "source": [
    "* 연습문제 6"
   ]
  },
  {
   "cell_type": "code",
   "execution_count": null,
   "metadata": {},
   "outputs": [],
   "source": [
    "a=\" 90:30:80\"\n",
    "a2=a.split(\",\")\n",
    "a3=a.strip()\n",
    "\n",
    "a= \"  90:30:80   \"\n",
    "math, english, science = a.strip().split(\":\")\n",
    "\n",
    "avg= (int(math)+ int(english) + int(science))/3\n",
    "print(avg)"
   ]
  },
  {
   "cell_type": "markdown",
   "metadata": {},
   "source": [
    "### 조건문"
   ]
  },
  {
   "cell_type": "markdown",
   "metadata": {},
   "source": [
    "* if"
   ]
  },
  {
   "cell_type": "code",
   "execution_count": null,
   "metadata": {},
   "outputs": [],
   "source": [
    "score =70\n",
    "if score>70:\n",
    "    pass\n",
    "if score>80:\n",
    "    pass"
   ]
  },
  {
   "cell_type": "markdown",
   "metadata": {},
   "source": [
    "* 연습문제 1"
   ]
  },
  {
   "cell_type": "code",
   "execution_count": null,
   "metadata": {},
   "outputs": [],
   "source": [
    "a=int(input(\"첫번째 입력:\"))\n",
    "b=int(input(\"두번째 입력:\"))\n",
    "c=int(input(\"세번째 입력:\"))\n",
    "\n",
    "if 0<=a<=100 and 0<=b<=100 and 0<=c<=100 :\n",
    "    if a>65 and b>65 and c>65 :\n",
    "        print(\"합격\")\n",
    "    else :\n",
    "        print(\"불합격\")\n",
    "else :\n",
    "    print(\"잘못된 점수가 입력되었습니다\")"
   ]
  },
  {
   "cell_type": "markdown",
   "metadata": {},
   "source": [
    "* 연습문제2"
   ]
  },
  {
   "cell_type": "code",
   "execution_count": null,
   "metadata": {},
   "outputs": [],
   "source": [
    "a=int(input(\"정수를 입력해주세요:\"))\n",
    "if (a%2==0) :\n",
    "    print(\"입력하신 %d는 짝수입니다\" %a)\n",
    "else :\n",
    "    print(\"입력하신 %d는 홀수입니다\" %a)"
   ]
  },
  {
   "cell_type": "code",
   "execution_count": null,
   "metadata": {},
   "outputs": [],
   "source": [
    "list(range(10))"
   ]
  },
  {
   "cell_type": "markdown",
   "metadata": {},
   "source": [
    "### 반복문 for "
   ]
  },
  {
   "cell_type": "markdown",
   "metadata": {},
   "source": [
    "* for"
   ]
  },
  {
   "cell_type": "code",
   "execution_count": null,
   "metadata": {},
   "outputs": [],
   "source": [
    "list(range(10))"
   ]
  },
  {
   "cell_type": "code",
   "execution_count": null,
   "metadata": {},
   "outputs": [],
   "source": [
    "for i in range(10):\n",
    "    print(\"현재값:\", i)"
   ]
  },
  {
   "cell_type": "markdown",
   "metadata": {},
   "source": [
    "* 연습문제 1"
   ]
  },
  {
   "cell_type": "code",
   "execution_count": null,
   "metadata": {},
   "outputs": [],
   "source": [
    "# 1-1)\n",
    "a=int(input(\"정수를 입력해주세요:\"))\n",
    "for i in range(a) :\n",
    "    print(\"안녕\")\n",
    "    "
   ]
  },
  {
   "cell_type": "code",
   "execution_count": null,
   "metadata": {},
   "outputs": [],
   "source": [
    "# 1-2)\n",
    "b= int(input(\"정수를 입력해주세요: \"))\n",
    "for i in range(b) :\n",
    "    print(\"*\" * (i+1))"
   ]
  },
  {
   "cell_type": "code",
   "execution_count": null,
   "metadata": {},
   "outputs": [],
   "source": [
    "# 1-3)\n",
    "c= int(input(\"정수를 입력해주세요: \"))\n",
    "for i in range(c) :  #range(c, 0, -1)\n",
    "    print(\"*\"*(c-i))"
   ]
  },
  {
   "cell_type": "code",
   "execution_count": null,
   "metadata": {},
   "outputs": [],
   "source": [
    "a=['a', 'b', 'c', 'd','f']\n",
    "enumerate(a)\n",
    "for idx, val in enumerate(a) :\n",
    "    print(idx, val)"
   ]
  },
  {
   "cell_type": "markdown",
   "metadata": {},
   "source": [
    "* 연습문제2"
   ]
  },
  {
   "cell_type": "code",
   "execution_count": null,
   "metadata": {},
   "outputs": [],
   "source": [
    "# 2-1)\n",
    "x=[3, 6, 9, 20, -7, 5]\n",
    "for idx, val in enumerate(x) :\n",
    "    print(val*10)\n",
    "    \n",
    "### 심화###\n",
    "#for idx, item in enumerate(x):\n",
    "#   x[idx] += 10\n",
    "#   print(x[idx])"
   ]
  },
  {
   "cell_type": "code",
   "execution_count": null,
   "metadata": {},
   "outputs": [],
   "source": [
    "# 2-2)\n",
    "y={\"math\":70, \"science\":80, \"english\":20}\n",
    "for i in y :\n",
    "    print(i, end=\":\")\n",
    "    print(y[i]+10)\n",
    "    \n",
    "    \n",
    "####심화####\n",
    "#y={\"math\":70, \"science\":80, \"english\":20}\n",
    "#for i in y :\n",
    "#   y[i]= y[i]+10\n",
    "#   print(y[i)"
   ]
  },
  {
   "cell_type": "code",
   "execution_count": null,
   "metadata": {},
   "outputs": [],
   "source": [
    "# 2-3)\n",
    "z=int(input(\"정수를 입력해주세요: \"))\n",
    "for i in range(1, 10) :\n",
    "    print(\"{}*{}={}\".format(z, i, z*i))\n"
   ]
  },
  {
   "cell_type": "markdown",
   "metadata": {},
   "source": [
    "* 연습문제 3"
   ]
  },
  {
   "cell_type": "code",
   "execution_count": null,
   "metadata": {},
   "outputs": [],
   "source": [
    "# 3-1)\n",
    "world= [\"school\", \"game\", \"piano\", \"science\", \"hotel\", \"mountian\"]\n",
    "new =[]\n",
    "for i in world :\n",
    "    if(len(i) >= 6) :\n",
    "        new.append(i)\n",
    "print(new)"
   ]
  },
  {
   "cell_type": "code",
   "execution_count": null,
   "metadata": {},
   "outputs": [],
   "source": [
    "a"
   ]
  },
  {
   "cell_type": "code",
   "execution_count": null,
   "metadata": {},
   "outputs": [],
   "source": [
    "\"{0} x {1} = {2}\".format(a, b, a*b)"
   ]
  },
  {
   "cell_type": "code",
   "execution_count": null,
   "metadata": {},
   "outputs": [],
   "source": [
    "for i in range(1,10) :\n",
    "    for j in range(1, 10) :\n",
    "        print(\"{}*{}={}\".format(i, j, i*j))"
   ]
  },
  {
   "cell_type": "markdown",
   "metadata": {},
   "source": [
    "* 연습문제 4"
   ]
  },
  {
   "cell_type": "code",
   "execution_count": null,
   "metadata": {},
   "outputs": [],
   "source": [
    "x=int(input(\"정수 입력:\"))\n",
    "\n",
    "for i in range(1, 100) :\n",
    "    if(i%3==0 and i%5==0) :\n",
    "        print(\"{},3과 5의 공배수:{}\".format(x, i))\n",
    "    elif(i%3==0) :\n",
    "        print(\"{}, 3의 공배수: {}\".format(x, i))\n",
    "    elif(i%5==0) :\n",
    "        print(\"{}, 5의 공배수: {}\".format(x, i))\n",
    "    else :\n",
    "        print(\"{}, 그냥숫자: {}\".format(x,i))"
   ]
  },
  {
   "cell_type": "markdown",
   "metadata": {},
   "source": [
    "### 반복문 while"
   ]
  },
  {
   "cell_type": "markdown",
   "metadata": {},
   "source": [
    "* while"
   ]
  },
  {
   "cell_type": "code",
   "execution_count": null,
   "metadata": {},
   "outputs": [],
   "source": []
  },
  {
   "cell_type": "code",
   "execution_count": null,
   "metadata": {},
   "outputs": [],
   "source": [
    "i=0\n",
    "while i <10 :\n",
    "    print(\"현재값:\", i)\n",
    "    i +=1"
   ]
  },
  {
   "cell_type": "markdown",
   "metadata": {},
   "source": [
    "* 연습문제 6"
   ]
  },
  {
   "cell_type": "code",
   "execution_count": null,
   "metadata": {},
   "outputs": [],
   "source": [
    "import random\n",
    "user =0\n",
    "total =0\n",
    "draw=0\n",
    "win =0\n",
    "word =[\"가위\", \"바위\", \"보\"]\n",
    "\n",
    "user = int(input(\"가위(1),바위(2),보(3) 을 입력해주세요:\"))\n",
    "computer = random.randint(1,3)\n",
    "\n",
    "while user in [1, 2, 3, 4]:\n",
    "    print(\"유저: %s, 컴퓨터: %s\" %(word[user-1], word[computer-1]))\n",
    "    computer=random.randint(1,3)\n",
    "    #승리체크\n",
    "    if(user==1 and computer==3):\n",
    "        win +=1\n",
    "    elif(user==2 and computer==1):\n",
    "        win +=1\n",
    "    elif(user==3 and computer==2):\n",
    "        win +=1\n",
    "    elif(user==computer):   #비긴숫자\n",
    "        draw +=1        \n",
    "    total +=1\n",
    "    \n",
    "    user = int(input(\"가위(1),바위(2),보(3) 을 입력해주세요:\"))\n",
    "    computer=random.randint(1,3)\n",
    "    print(\"게임종료 (전체{}, 승리{}, 비김{})\".format(total, win, draw))\n",
    "        \n"
   ]
  },
  {
   "cell_type": "markdown",
   "metadata": {},
   "source": [
    "* 모듈과 페키지\n",
    "* 연습문제 1"
   ]
  },
  {
   "cell_type": "code",
   "execution_count": null,
   "metadata": {},
   "outputs": [],
   "source": [
    "#개미수열\n",
    "\n",
    "char = \"1\"\n",
    "output = \"\"\n",
    "num=int(input(\"값 입력:\"))\n",
    "for i in range(num):\n",
    "    j = 0\n",
    "    while j < len(char):\n",
    "        curr = char[j]\n",
    "        count = 1\n",
    "        while j+1 < len(char) and curr == char[j+1]:\n",
    "            count += 1\n",
    "            j += 1\n",
    "        output += curr + str(count)\n",
    "        j += 1\n",
    "    print (output)\n",
    "    char = output\n",
    "    output = \"\"\n"
   ]
  },
  {
   "cell_type": "markdown",
   "metadata": {},
   "source": [
    "* 연습문제 2"
   ]
  },
  {
   "cell_type": "code",
   "execution_count": null,
   "metadata": {},
   "outputs": [],
   "source": [
    "#피보나치 수열\n"
   ]
  }
 ],
 "metadata": {
  "kernelspec": {
   "display_name": "Python 3",
   "language": "python",
   "name": "python3"
  },
  "language_info": {
   "codemirror_mode": {
    "name": "ipython",
    "version": 3
   },
   "file_extension": ".py",
   "mimetype": "text/x-python",
   "name": "python",
   "nbconvert_exporter": "python",
   "pygments_lexer": "ipython3",
   "version": "3.7.6"
  }
 },
 "nbformat": 4,
 "nbformat_minor": 2
}
