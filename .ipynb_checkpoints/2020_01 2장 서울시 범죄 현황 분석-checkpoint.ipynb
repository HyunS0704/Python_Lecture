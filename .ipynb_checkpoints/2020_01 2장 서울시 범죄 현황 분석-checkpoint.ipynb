{
 "cells": [
  {
   "cell_type": "code",
   "execution_count": null,
   "metadata": {},
   "outputs": [],
   "source": [
    "import numpy as np\n",
    "import pandas as pd\n",
    "import matplotlib.pyplot as plt"
   ]
  },
  {
   "cell_type": "code",
   "execution_count": null,
   "metadata": {},
   "outputs": [],
   "source": [
    "import os\n",
    "filedir = 'data/analysis_crime_seoul'"
   ]
  },
  {
   "cell_type": "code",
   "execution_count": null,
   "metadata": {},
   "outputs": [],
   "source": [
    "filenames = os.listdir(filedir)"
   ]
  },
  {
   "cell_type": "code",
   "execution_count": null,
   "metadata": {},
   "outputs": [],
   "source": [
    "csv_list =[]\n",
    "for file in filenames:\n",
    "    if file.endswith('.csv'):\n",
    "        csv_list.append(file)\n",
    "file = csv_list[-1]\n",
    "_crime_anal_police=pd.read_csv(\"{}/{}\".format(filedir, file), encoding ='cp949')\n",
    "_crime_anal_police.head()"
   ]
  },
  {
   "cell_type": "code",
   "execution_count": null,
   "metadata": {},
   "outputs": [],
   "source": [
    "police_station = _crime_anal_police['구분'].unique()\n",
    "police_station"
   ]
  },
  {
   "cell_type": "code",
   "execution_count": null,
   "metadata": {},
   "outputs": [],
   "source": [
    "crime_name = _crime_anal_police['죄종'].unique()\n",
    "crime_name"
   ]
  },
  {
   "cell_type": "code",
   "execution_count": null,
   "metadata": {},
   "outputs": [],
   "source": [
    "crime_class= _crime_anal_police['발생검거'].unique()\n",
    "crime_class"
   ]
  },
  {
   "cell_type": "code",
   "execution_count": null,
   "metadata": {},
   "outputs": [],
   "source": [
    "result_list = []\n",
    "\n",
    "for p in police_station:\n",
    "    temp_dict ={\n",
    "        '구분': p\n",
    "    }\n",
    "    for n in crime_name:\n",
    "        for c in crime_class:\n",
    "            key = n+c\n",
    "            con1 =_crime_anal_police['구분']== p\n",
    "            con2 =_crime_anal_police['죄종']== n\n",
    "            con3 =_crime_anal_police['발생검거']==c\n",
    "\n",
    "            value = _crime_anal_police[con1 & con2 & con3]['건수'].values[0]\n",
    "            temp_dict[key] = value\n",
    "    result_list.append(temp_dict)\n",
    "result_list"
   ]
  },
  {
   "cell_type": "code",
   "execution_count": null,
   "metadata": {},
   "outputs": [],
   "source": [
    "crime_anal_police = pd.DataFrame(result_list)\n",
    "crime_anal_police"
   ]
  },
  {
   "cell_type": "code",
   "execution_count": null,
   "metadata": {},
   "outputs": [],
   "source": []
  },
  {
   "cell_type": "code",
   "execution_count": null,
   "metadata": {},
   "outputs": [],
   "source": [
    "crime_anal_police['구분'] = crime_anal_police['구분'].apply(lambda x:\"서울\"+x+\"경찰서\")\n",
    "crime_anal_police"
   ]
  },
  {
   "cell_type": "code",
   "execution_count": null,
   "metadata": {},
   "outputs": [],
   "source": [
    "from pprint import pprint\n",
    "import requests\n",
    "\n",
    "\n",
    "station_address=[] #주소\n",
    "station_lng=[] #경도(x)\n",
    "station_lat=[] #위도(y)\n",
    "\n",
    "# search 버전 크롤링\n",
    "url ='https://map.naver.com/v5/api/search'\n",
    "params={\n",
    "    'caller':'pcweb'\n",
    "    \n",
    "}\n",
    "\n",
    "for police in crime_anal_police['구분']:\n",
    "    params['query'] = police\n",
    "    resp = requests.get(url, params)\n",
    "    \n",
    "    data =resp.json()\n",
    "    geo_info = data['result']['place']['list'][0]\n",
    "    #roadAdress가 없으면 address를 찾고 이것도없으면 null\n",
    "    address = geo_info.get('readAddress')\n",
    "    if not address:\n",
    "        address = geo_info.get('address')\n",
    "    \n",
    "    station_address.append(\n",
    "        address\n",
    "    )\n",
    "    station_lng.append(\n",
    "        geo_info['x']\n",
    "    )\n",
    "    station_lat.append(\n",
    "        geo_info['y']\n",
    "    )\n",
    "station_address, station_lng, station_lat"
   ]
  },
  {
   "cell_type": "markdown",
   "metadata": {},
   "source": [
    "### Data 저장하기(주소,위도, 경도) p82-ln[7]"
   ]
  },
  {
   "cell_type": "code",
   "execution_count": null,
   "metadata": {},
   "outputs": [],
   "source": [
    "#instantSearch\n",
    "from time import sleep\n",
    "import random\n",
    "\n",
    "url ='https://map.naver.com/v5/api/instantSearch'\n",
    "params={\n",
    "    'lang':'ko',\n",
    "    'caller':'pcweb',\n",
    "    'types':'place',\n",
    "    'coords':'37.57553518251637,126.98491573333742'\n",
    "}\n",
    "station_address=[] #주소\n",
    "station_lng=[] #경도(x)\n",
    "station_lat=[] #위도(y)\n",
    "\n",
    "for police in crime_anal_police['구분']:\n",
    "    sleep(random.randint(1,3))\n",
    "    \n",
    "    params['q'] = police\n",
    "    resp = requests.get(url, params)\n",
    "    \n",
    "    station_data =resp.json()\n",
    "    geo_info = station_data['poi'][0]\n",
    "    #roadAdress가 없으면 address를 찾고 이것도없으면 null\n",
    "    address = geo_info.get('jibunAddress')\n",
    "    if not address:\n",
    "        address = geo_info.get('address')\n",
    "    \n",
    "    station_address.append(\n",
    "        address\n",
    "    )\n",
    "    station_lng.append(\n",
    "        geo_info['x']\n",
    "    )\n",
    "    station_lat.append(\n",
    "        geo_info['y']\n",
    "    )\n",
    "station_address, station_lng, station_lat"
   ]
  },
  {
   "cell_type": "code",
   "execution_count": null,
   "metadata": {},
   "outputs": [],
   "source": [
    "zip(station_address, station_lat, station_lng)"
   ]
  },
  {
   "cell_type": "code",
   "execution_count": null,
   "metadata": {},
   "outputs": [],
   "source": [
    "list(zip(station_address, station_lat, station_lng))"
   ]
  },
  {
   "cell_type": "code",
   "execution_count": null,
   "metadata": {},
   "outputs": [],
   "source": [
    "# dict zip은 value값처럼 출력\n",
    "dict(zip(station_address, station_lat))"
   ]
  },
  {
   "cell_type": "markdown",
   "metadata": {},
   "source": [
    "### 구 분류하기(p85)"
   ]
  },
  {
   "cell_type": "code",
   "execution_count": null,
   "metadata": {},
   "outputs": [],
   "source": [
    "crime_anal_police.head()"
   ]
  },
  {
   "cell_type": "code",
   "execution_count": null,
   "metadata": {},
   "outputs": [],
   "source": [
    "# #책의 코드\n",
    "# gu_name=[]\n",
    "\n",
    "# for name in station_address:\n",
    "#     tmp=name.split()\n",
    "    \n",
    "#     tmp_gu=[gu for gu in tmp if gu[-1] == '구'][0]\n",
    "    \n",
    "#     gu_name.append(tmp_gu)\n",
    "    \n",
    "# crime_anal_police['구별']=gu_name\n",
    "# crime_anal_police.head()\n",
    "\n",
    "#or 다음과 같이도 가능\n",
    "gu_name=[]\n",
    "for name in station_address:\n",
    "    tmp=name.split()\n",
    "    gu_name.append(tmp[1])\n",
    "crime_anal_police['구별']=gu_name\n",
    "crime_anal_police.head()"
   ]
  },
  {
   "cell_type": "code",
   "execution_count": null,
   "metadata": {},
   "outputs": [],
   "source": [
    "crime_anal_police['구별'].value_counts()"
   ]
  },
  {
   "cell_type": "markdown",
   "metadata": {},
   "source": [
    "#### 형식 동일하게 만들기(구분->관서별)"
   ]
  },
  {
   "cell_type": "code",
   "execution_count": null,
   "metadata": {},
   "outputs": [],
   "source": [
    "crime_anal_police.rename(columns={\n",
    "    '구분':'관서명'\n",
    "}, inplace=True)\n",
    "crime_anal_police.head()"
   ]
  },
  {
   "cell_type": "markdown",
   "metadata": {},
   "source": [
    "#### 수정한 파일 저장(p87)-ln[14]"
   ]
  },
  {
   "cell_type": "code",
   "execution_count": null,
   "metadata": {},
   "outputs": [],
   "source": [
    "file"
   ]
  },
  {
   "cell_type": "code",
   "execution_count": null,
   "metadata": {},
   "outputs": [],
   "source": [
    "import os"
   ]
  },
  {
   "cell_type": "code",
   "execution_count": null,
   "metadata": {},
   "outputs": [],
   "source": [
    "if not os.path.exists(filedir+'/modified'):\n",
    "    os.makedirs(filedir+'/modified')"
   ]
  },
  {
   "cell_type": "code",
   "execution_count": null,
   "metadata": {},
   "outputs": [],
   "source": [
    "modified_file= \"modified/{}\".format(file)"
   ]
  },
  {
   "cell_type": "code",
   "execution_count": null,
   "metadata": {},
   "outputs": [],
   "source": [
    "crime_anal_police.to_csv(\"{}/{}\".format(filedir, modified_file), sep=',', encoding='utf-8')"
   ]
  },
  {
   "cell_type": "code",
   "execution_count": null,
   "metadata": {},
   "outputs": [],
   "source": [
    "crime_anal_police['구별'].value_counts()"
   ]
  },
  {
   "cell_type": "markdown",
   "metadata": {},
   "source": [
    "### 구별로 정리\n",
    "### 2-5 Panda-pinot_table"
   ]
  },
  {
   "cell_type": "code",
   "execution_count": null,
   "metadata": {},
   "outputs": [],
   "source": [
    "pd.pivot_table?"
   ]
  },
  {
   "cell_type": "code",
   "execution_count": null,
   "metadata": {},
   "outputs": [],
   "source": [
    "df=crime_anal_police.copy()"
   ]
  },
  {
   "cell_type": "code",
   "execution_count": null,
   "metadata": {},
   "outputs": [],
   "source": [
    "df.head()"
   ]
  },
  {
   "cell_type": "code",
   "execution_count": null,
   "metadata": {},
   "outputs": [],
   "source": [
    "#index를 지정하지 않았다면, 숫자형 데이터만 남음.\n",
    "pd.pivot_table(df, index=['구별'])"
   ]
  },
  {
   "cell_type": "code",
   "execution_count": null,
   "metadata": {},
   "outputs": [],
   "source": [
    "df[df['구별']=='중구']"
   ]
  },
  {
   "cell_type": "code",
   "execution_count": null,
   "metadata": {},
   "outputs": [],
   "source": [
    "sample= pd.pivot_table(df, index=['구별'])\n",
    "sample.loc[sample.index=='중구',:]"
   ]
  },
  {
   "cell_type": "markdown",
   "metadata": {},
   "source": [
    "#### index를 지정하지않으면 숫자형 데이터만 남음.\n",
    "### index 여러개 지정. -index지정 순서가 pivot의 영향을 끼침."
   ]
  },
  {
   "cell_type": "code",
   "execution_count": null,
   "metadata": {},
   "outputs": [],
   "source": [
    "pd.pivot_table(df, index=['구별','관서명'])"
   ]
  },
  {
   "cell_type": "markdown",
   "metadata": {},
   "source": [
    "### value지정 (특정 값만 남기기)"
   ]
  },
  {
   "cell_type": "code",
   "execution_count": null,
   "metadata": {},
   "outputs": [],
   "source": [
    "pd.pivot_table(df, index=['구별','관서명'], values=['절도검거','절도발생'])"
   ]
  },
  {
   "cell_type": "markdown",
   "metadata": {},
   "source": [
    "### aggfunc 지정하기"
   ]
  },
  {
   "cell_type": "code",
   "execution_count": null,
   "metadata": {},
   "outputs": [],
   "source": [
    "pd.pivot_table(df, index=['구별','관서명'], values=['절도검거','절도발생'],aggfunc=np.max)\n",
    "#강남구->(강남경찰서, 수서경찰서 max값)\n",
    "#위와 아래는 동일한 작동을 하지만 내부적 연산 속도에 차이 발생.(numpy 속도 빠름)\n",
    "#pd.pivot_table(df, index=['구별'], values=['절도검거', '절도발생'], aggfunc=max)"
   ]
  },
  {
   "cell_type": "markdown",
   "metadata": {},
   "source": [
    "### aggfunc 여러개 지정하기"
   ]
  },
  {
   "cell_type": "code",
   "execution_count": null,
   "metadata": {},
   "outputs": [],
   "source": [
    "#강남구 -> (강남경찰서, 수서경찰서 최대값 및 평균, 최소값)\n",
    "#Multilndex columns\n",
    "pd.pivot_table(df, index=['구별','관서명'], values=['절도검거','절도발생'],aggfunc=[np.max, np.mean, np.min])"
   ]
  },
  {
   "cell_type": "markdown",
   "metadata": {},
   "source": [
    "### piovt_table최종 (+NA값 처리/margin=총계)"
   ]
  },
  {
   "cell_type": "code",
   "execution_count": null,
   "metadata": {},
   "outputs": [],
   "source": [
    "pd.pivot_table(df, index=['구별','관서명'], values=['절도검거','절도발생'],aggfunc=[np.max, np.mean, np.min], fill_value=0)"
   ]
  },
  {
   "cell_type": "code",
   "execution_count": null,
   "metadata": {},
   "outputs": [],
   "source": [
    "#강남구->(강남경찰서, 수서경찰서 합계 및 평균)\n",
    "pd.pivot_table(df,\n",
    "              index=['구별'],\n",
    "              values=['절도검거','절도발생'],\n",
    "              aggfunc=[np.max, np.mean],\n",
    "              fill_value=0,\n",
    "              margins=True,\n",
    "              margins_name=\"총계\")"
   ]
  },
  {
   "cell_type": "markdown",
   "metadata": {},
   "source": [
    "### 2-6.Pivot_table을 이용해서 데이터 정리하기"
   ]
  },
  {
   "cell_type": "markdown",
   "metadata": {},
   "source": [
    "* 예저1.pivot_table을 이용해서 crime_anal_police 데이터의 구별로 데이터를 정리하고 합계를 표시하시오.\n",
    "그 결과를 crime_anal로 저장하시오"
   ]
  },
  {
   "cell_type": "code",
   "execution_count": null,
   "metadata": {
    "scrolled": true
   },
   "outputs": [],
   "source": [
    "crime_anal =pd.pivot_table(crime_anal_police, index=['구별'], aggfunc=np.sum)\n",
    "crime_anal.head()"
   ]
  },
  {
   "cell_type": "markdown",
   "metadata": {},
   "source": [
    "* 예제2. crime_anal의 각 범죄의 검거와 발생을 가지고 각각[<범죄>검거율]을 입력하시오.\n",
    "단, 100이 넘어가면 100으로 변경하시오. 그 후 기존[<범죄>검거]데이터는 삭제하시오"
   ]
  },
  {
   "cell_type": "code",
   "execution_count": null,
   "metadata": {},
   "outputs": [],
   "source": [
    "crime_name_list =['강간','강도','살인','절도','폭력']\n",
    "\n",
    "for crime_name in crime_name_list:\n",
    "    # 검거율 계산\n",
    "    temp_series =crime_anal.loc[:, crime_name+\"검거\"]/crime_anal.loc[:, crime_name+\"발생\"]*100\n",
    "    temp_series[temp_series>100]=100\n",
    "    \n",
    "    #검거율 df에 추가\n",
    "    crime_anal[crime_name+\"검거율\"]=temp_series\n",
    "    \n",
    "    #검거 데이터 삭제\n",
    "    crime_anal.drop(crime_name+\"검거\", axis=1, inplace=True)\n",
    "    #아래의 데이터삭제 코드도 가능\n",
    "    # del crime_anal[crime_name+\"검거\"]"
   ]
  },
  {
   "cell_type": "markdown",
   "metadata": {},
   "source": [
    "* 예제3.[<범죄>발생]columns의 \"발생\"이라는 단어를 제거하시오\n",
    "(절도발생 ->절도)"
   ]
  },
  {
   "cell_type": "code",
   "execution_count": null,
   "metadata": {},
   "outputs": [],
   "source": [
    "dict(zip([i + \"발생\" for i in crime_name_list], crime_name_list))"
   ]
  },
  {
   "cell_type": "code",
   "execution_count": null,
   "metadata": {},
   "outputs": [],
   "source": [
    "column_names=dict(zip([i + \"발생\" for i in crime_name_list], crime_name_list))\n",
    "column_names"
   ]
  },
  {
   "cell_type": "code",
   "execution_count": null,
   "metadata": {},
   "outputs": [],
   "source": [
    "crime_anal.rename(columns =column_names, inplace=True)"
   ]
  },
  {
   "cell_type": "code",
   "execution_count": null,
   "metadata": {},
   "outputs": [],
   "source": [
    "crime_anal.head()"
   ]
  },
  {
   "cell_type": "markdown",
   "metadata": {},
   "source": [
    "### 데이터 분포도 보기"
   ]
  },
  {
   "cell_type": "code",
   "execution_count": null,
   "metadata": {},
   "outputs": [],
   "source": [
    "crime_anal.describe()\n",
    "#데이터의 분포도가 각각 다르다 -> 스케일링 필요 -> 정규화 or 표준화(예-살인과 폭력에 비교)"
   ]
  },
  {
   "cell_type": "markdown",
   "metadata": {},
   "source": [
    "### 2-7. 데이터 표현으 위해 다듬기"
   ]
  },
  {
   "cell_type": "code",
   "execution_count": null,
   "metadata": {},
   "outputs": [],
   "source": [
    "from sklearn.preprocessing import MinMaxScaler"
   ]
  },
  {
   "cell_type": "code",
   "execution_count": null,
   "metadata": {},
   "outputs": [],
   "source": [
    "col =['강간','강도','살인','절도','폭력']"
   ]
  },
  {
   "cell_type": "code",
   "execution_count": null,
   "metadata": {},
   "outputs": [],
   "source": [
    "x = crime_anal[col].values\n",
    "min_max_scaler =MinMaxScaler()\n",
    "\n",
    "#변환기는 fit과 transform 함수 내장. (합친게 fit_transform)\n",
    "#fit은 변환할 값 저장\n",
    "#transform은 값 변환\n",
    "x_scaled = min_max_scaler.fit_transform(x.astype(float))\n",
    "\n",
    "#오리지널 데이터, 스케일된 데이터\n",
    "x, x_scaled"
   ]
  },
  {
   "cell_type": "code",
   "execution_count": null,
   "metadata": {},
   "outputs": [],
   "source": [
    "#정규화된 anal_norm data\n",
    "crime_anal_norm = pd.DataFrame(x_scaled, columns=col, index=crime_anal.index)\n",
    "crime_anal_norm"
   ]
  },
  {
   "cell_type": "code",
   "execution_count": null,
   "metadata": {},
   "outputs": [],
   "source": [
    "col2 =[i+\"검거율\" for i in col]\n",
    "crime_anal_norm[col2] = crime_anal[col2]\n",
    "crime_anal_norm.head()"
   ]
  },
  {
   "cell_type": "markdown",
   "metadata": {},
   "source": [
    "* CCTV데이터 가져오기"
   ]
  },
  {
   "cell_type": "code",
   "execution_count": null,
   "metadata": {},
   "outputs": [],
   "source": [
    "result_CCTV =pd.read_csv('./data/CCTV_reslut.csv', encoding='utf-8', index_col='구별')"
   ]
  },
  {
   "cell_type": "code",
   "execution_count": null,
   "metadata": {},
   "outputs": [],
   "source": [
    "result_CCTV"
   ]
  },
  {
   "cell_type": "markdown",
   "metadata": {},
   "source": [
    "#### 연습문제1.-crime_anal_norm 데이터프레임에 인구수와 CCTV의 소계를 추가하시오."
   ]
  },
  {
   "cell_type": "code",
   "execution_count": null,
   "metadata": {},
   "outputs": [],
   "source": []
  },
  {
   "cell_type": "code",
   "execution_count": null,
   "metadata": {},
   "outputs": [],
   "source": [
    "crime_anal_norm[['인구수','CCTV']]=result_CCTV[['인구수','소계']]\n",
    "crime_anal_norm.head()"
   ]
  },
  {
   "cell_type": "code",
   "execution_count": null,
   "metadata": {},
   "outputs": [],
   "source": [
    "# 방법1\n",
    "#연습문제1\n",
    "crime_anal_norm[['인구수','CCTV']]=result_CCTV[['인구수','소계']]"
   ]
  },
  {
   "cell_type": "markdown",
   "metadata": {},
   "source": [
    "* 기존데이터 빼기"
   ]
  },
  {
   "cell_type": "code",
   "execution_count": null,
   "metadata": {},
   "outputs": [],
   "source": [
    "crime_anal_norm.drop([\"인구수\",\"CCTV\"], axis=1, inplace=True)"
   ]
  },
  {
   "cell_type": "code",
   "execution_count": null,
   "metadata": {},
   "outputs": [],
   "source": [
    "#방법2\n",
    "#연습문제1\n",
    "crime_anal_norm.drop([\"인구수\", \"CCTV\"], axis=1, inplace=True)\n",
    "crime_anal_norm =crime_anla_merge(result_CCTV[[\"소계\",\"인구수\"]], on='구별')\n",
    "crime_anal_norm.rename(columns={\n",
    "    \"소계\":\"CCTV\"\n",
    "}, inplace=True)\n",
    "crime_anal_norm"
   ]
  },
  {
   "cell_type": "markdown",
   "metadata": {},
   "source": [
    "#### 연습문제2-범죄 발생건수의 합을, '범죄'라는 column으로 두어 저장하고, 범죄검거건수의 합을 \"검거\"라는 column으로 저장하라."
   ]
  },
  {
   "cell_type": "code",
   "execution_count": null,
   "metadata": {},
   "outputs": [],
   "source": [
    "col"
   ]
  },
  {
   "cell_type": "code",
   "execution_count": null,
   "metadata": {},
   "outputs": [],
   "source": [
    "col2"
   ]
  },
  {
   "cell_type": "code",
   "execution_count": null,
   "metadata": {},
   "outputs": [],
   "source": [
    "crime_anal_norm['범죄']=np.sum(crime_anal_norm[col], axis=1)\n",
    "crime_anal_norm['검거']=np.sum(crime_anal_norm[col2], axis=1)\n",
    "crime_anal_norm"
   ]
  },
  {
   "cell_type": "markdown",
   "metadata": {},
   "source": [
    "### 2-7 좀 더 편리한 시각화 도구-Seaborn"
   ]
  },
  {
   "cell_type": "markdown",
   "metadata": {},
   "source": [
    "* seaborn을 설치합니다"
   ]
  },
  {
   "cell_type": "markdown",
   "metadata": {},
   "source": [
    "* seaborn은 내부적으로 matplotlib사용 ->plot을 그리려면 import되어 있어야함"
   ]
  },
  {
   "cell_type": "code",
   "execution_count": null,
   "metadata": {},
   "outputs": [],
   "source": [
    "import matplotlib.pyplot as plt"
   ]
  },
  {
   "cell_type": "code",
   "execution_count": null,
   "metadata": {},
   "outputs": [],
   "source": [
    "%matplotlib inline"
   ]
  },
  {
   "cell_type": "code",
   "execution_count": null,
   "metadata": {},
   "outputs": [],
   "source": [
    "import seaborn as sns"
   ]
  },
  {
   "cell_type": "code",
   "execution_count": null,
   "metadata": {},
   "outputs": [],
   "source": [
    "x=np.linspace(0,14,100)\n",
    "y1=np.sin(x)\n",
    "y2 = 2*np.sin(x+0.5)\n",
    "y3 = 3*np.sin(x+1.0)\n",
    "y4 = 4*np.sin(x+1.5)\n",
    "\n",
    "plt.figure(figsize=(6,4))\n",
    "plt.plot(x, y1, x.y2, x.y3, x.y4)\n",
    "\n",
    "plt.show()"
   ]
  },
  {
   "cell_type": "markdown",
   "metadata": {},
   "source": [
    "#### seaborn 자체 데이터로 연습하기"
   ]
  },
  {
   "cell_type": "code",
   "execution_count": null,
   "metadata": {},
   "outputs": [],
   "source": [
    "#tips 데이터-요일별 점심, 저녁, 흡연 여부와 식사금액과 팁을 정리한 테이터\n",
    "tips=sns.load_dataset('tips')\n",
    "tips.head(5)"
   ]
  },
  {
   "cell_type": "code",
   "execution_count": null,
   "metadata": {},
   "outputs": [],
   "source": [
    "plt.figure(figsize=(8,6))\n",
    "sns.boxplot(x=\"day\", y=\"total_bill\", data=tips)\n",
    "plt.show()"
   ]
  },
  {
   "cell_type": "code",
   "execution_count": null,
   "metadata": {},
   "outputs": [],
   "source": []
  },
  {
   "cell_type": "markdown",
   "metadata": {},
   "source": [
    "#### hue라는 인자로 구분하기"
   ]
  },
  {
   "cell_type": "code",
   "execution_count": null,
   "metadata": {},
   "outputs": [],
   "source": [
    "plt.figure(figsize=(8,6))\n",
    "#흡연 여부로 분류하여 플로팅 --> 흡연자가 금액의 범위가 대체로 크다.\n",
    "#hue에 범주형 데이터를 주면, 범주에 따라 다르게 시각화 함.\n",
    "sns.boxplot(x='day',y='total_bill', data=tips, hue='smoker', palette='Set3')"
   ]
  },
  {
   "cell_type": "markdown",
   "metadata": {},
   "source": [
    "#### Implot으로 선형 그래프 그리기"
   ]
  },
  {
   "cell_type": "markdown",
   "metadata": {},
   "source": [
    "### Import -->scatter처럼 데이터 분포, 직선으로 regression결과 + 유효범위 잡아줌"
   ]
  },
  {
   "cell_type": "code",
   "execution_count": null,
   "metadata": {},
   "outputs": [],
   "source": [
    "sns.set_style(\"darkgrid\")\n",
    "sns.lmplot(x=\"total_bill\", y=\"tip\", data=tips, size=7)\n",
    "plt.show()"
   ]
  },
  {
   "cell_type": "code",
   "execution_count": null,
   "metadata": {},
   "outputs": [],
   "source": [
    "# palette -->색상 지정\n",
    "sns.lmplot(x=\"total_bill\", y=\"tip\", hue=\"smoker\", data=tips, palette=\"Set1\", size=7)\n",
    "plt.show()"
   ]
  },
  {
   "cell_type": "markdown",
   "metadata": {},
   "source": [
    "### 비행기 데이터"
   ]
  },
  {
   "cell_type": "code",
   "execution_count": null,
   "metadata": {},
   "outputs": [],
   "source": [
    "flights= sns.load_dataset('flights')\n",
    "flights.head()"
   ]
  },
  {
   "cell_type": "code",
   "execution_count": null,
   "metadata": {},
   "outputs": [],
   "source": [
    "# index, columns, value\n",
    "flights =flights.pivot(\"month\", \"year\", \"passengers\")\n",
    "flights.head()"
   ]
  },
  {
   "cell_type": "markdown",
   "metadata": {},
   "source": [
    "* seaborn heatmap - 데이터 경향 파악"
   ]
  },
  {
   "cell_type": "code",
   "execution_count": null,
   "metadata": {},
   "outputs": [],
   "source": [
    "plt.figure(figsize=(10,8))\n",
    "# annot: 개수 표현 여부\n",
    "sns.heatmap(flights, annot=True, fmt='d')\n",
    "#얼마나 많은지 분포도 파악:fmt:정수(d):annot:숫자표시여부"
   ]
  },
  {
   "cell_type": "markdown",
   "metadata": {},
   "source": [
    "#### lris 데이터"
   ]
  },
  {
   "cell_type": "code",
   "execution_count": null,
   "metadata": {},
   "outputs": [],
   "source": [
    "sns.set(style='ticks')\n",
    "iris = sns.load_dataset('iris')\n",
    "iris.head()"
   ]
  },
  {
   "cell_type": "markdown",
   "metadata": {},
   "source": [
    "#### pairplot그리기"
   ]
  },
  {
   "cell_type": "code",
   "execution_count": null,
   "metadata": {},
   "outputs": [],
   "source": [
    "sns.pairplot(iris)"
   ]
  },
  {
   "cell_type": "markdown",
   "metadata": {},
   "source": [
    " ### hue파라미터 구분하기"
   ]
  },
  {
   "cell_type": "code",
   "execution_count": null,
   "metadata": {},
   "outputs": [],
   "source": [
    "sns.pairplot(iris, hue=\"species\")\n",
    "#범주형 데이터로 설계"
   ]
  },
  {
   "cell_type": "markdown",
   "metadata": {},
   "source": [
    "#### variable 줘서 그리기"
   ]
  },
  {
   "cell_type": "code",
   "execution_count": null,
   "metadata": {},
   "outputs": [],
   "source": [
    "sns.pairplot(iris, vars=['sepal_length', 'sepal_width', 'petal_width'])"
   ]
  },
  {
   "cell_type": "markdown",
   "metadata": {},
   "source": [
    "#### regressio 함께 그리기"
   ]
  },
  {
   "cell_type": "code",
   "execution_count": null,
   "metadata": {},
   "outputs": [],
   "source": [
    "#sns.pairplot(iris, kind='reg', size=3)\n",
    "sns.pairplot(iris, kind='reg', height=2)"
   ]
  },
  {
   "cell_type": "markdown",
   "metadata": {},
   "source": [
    "#### x와 y의 변수 다르게 줘서 pairplot그리기"
   ]
  },
  {
   "cell_type": "code",
   "execution_count": null,
   "metadata": {},
   "outputs": [],
   "source": [
    "sns.pairplot(iris,\n",
    "            kind='reg',\n",
    "            x_vars=['sepal_width', 'petal_width'],\n",
    "            y_vars=['sepal_length', 'petal_length'],\n",
    "            hue='species',\n",
    "            height=3)"
   ]
  },
  {
   "cell_type": "markdown",
   "metadata": {},
   "source": [
    "### 2-8. 범조 데이터 시각화 하기"
   ]
  },
  {
   "cell_type": "code",
   "execution_count": null,
   "metadata": {},
   "outputs": [],
   "source": [
    "import matplotlib.pyplot as plt\n",
    "import seaborn as sns\n",
    "\n",
    "%matplotlib inline"
   ]
  },
  {
   "cell_type": "code",
   "execution_count": null,
   "metadata": {},
   "outputs": [],
   "source": [
    "# 한글입력\n",
    "import platform\n",
    "from matplotlib import font_manager, rc\n",
    "plt.rcParams['axes.unicode_minus']=False\n",
    "\n",
    "if platform.system() == 'Darwin':\n",
    "    rc('font', family = 'AppleGothic')\n",
    "elif platform.system() == 'Windows':\n",
    "    path =\"C:/Windows/Fonts/malgun.ttf\"\n",
    "    font_name = font_manager.FontProperties(fname=path).get_name()\n",
    "    rc('font', family=font_name)\n",
    "else:\n",
    "    print('Unknown system... sorry~~~~')"
   ]
  },
  {
   "cell_type": "markdown",
   "metadata": {},
   "source": [
    "### 연습문제1 -crime_anal_norm을 [강도,살인, 폭력]에 대한 상관관계를 pairplot을 이용해 분석하시오. (regression 그래프와 함께 그리시오)"
   ]
  },
  {
   "cell_type": "code",
   "execution_count": null,
   "metadata": {},
   "outputs": [],
   "source": [
    "sns.pairplot(crime_anal_norm, \n",
    "             kind='reg',\n",
    "             vars=['강도','살인','폭력'])"
   ]
  },
  {
   "cell_type": "markdown",
   "metadata": {},
   "source": [
    "### 연습문제2. pairplot을 x 변수는['인구수',cctv'], y변수는['살인검거율','폭력검거율']로 하고 pairplot을 regression 그래프와 함께 그리시오"
   ]
  },
  {
   "cell_type": "code",
   "execution_count": null,
   "metadata": {},
   "outputs": [],
   "source": [
    "sns.pairplot(crime_anal_norm,\n",
    "            kind='reg',   #그래서 선형\n",
    "            x_vars=['인구수', 'CCTV'],   #x축 데이터값\n",
    "            y_vars=['살인검거율', '폭력검거율'],   #y축 데이터값\n",
    "            height=3   #그래프 크기\n",
    "            )"
   ]
  },
  {
   "cell_type": "code",
   "execution_count": null,
   "metadata": {},
   "outputs": [],
   "source": [
    "# 검거율의 합께를 100으로 한정 짓기. ->정규화 일종.\n",
    "tmp_max = crime_anal_norm['검거'].max()\n",
    "crime_anal_norm['검거']=crime_anal_norm['검거']/tmp_max *100\n",
    "\n",
    "# 정렬\n",
    "crime_anal_norm_sort = crime_anal_norm.sort_values(by=\"검거\", ascending=False)\n",
    "#crime_anal_norm_sort"
   ]
  },
  {
   "cell_type": "code",
   "execution_count": null,
   "metadata": {},
   "outputs": [],
   "source": [
    "target_col =col2\n",
    "\n",
    "crime_anal_norm_sort = crime_anal_norm.sort_values(by=\"검거\",  ascending=False)"
   ]
  },
  {
   "cell_type": "code",
   "execution_count": null,
   "metadata": {},
   "outputs": [],
   "source": [
    "plt.figure(figsize=(10,10))\n",
    "sns.heatmap(crime_anal_norm_sort[target_col], annot=True, fmt=\"f\", linewidths=.5)   # annot은 숫자\n",
    "plt.title(\"범죄 검거 비율 (정규화된 검거의 합)\")"
   ]
  },
  {
   "cell_type": "markdown",
   "metadata": {},
   "source": [
    "#### 연습문제 -범죄비율을 히트맵으로 표현하시오"
   ]
  },
  {
   "cell_type": "code",
   "execution_count": null,
   "metadata": {},
   "outputs": [],
   "source": [
    "target_col =col.copy() + ['범죄']\n",
    "\n",
    "crime_anal_norm['범죄']=crime_anal_norm['범죄']/5 #5개를 더해 만들었으니 스케일링\n",
    "\n",
    "crime_anal_norm_sort=crime_anal_norm.sort_values(by=\"범죄\", ascending=False)\n",
    "plt.figure(figsize=(10,10))\n",
    "sns.heatmap(crime_anal_norm_sort[target_col], annot=True, fmt=\"f\", linewidths=.5)\n",
    "plt.title(\"범죄 비율 (정규화된 발생 건수)\")"
   ]
  },
  {
   "cell_type": "markdown",
   "metadata": {},
   "source": [
    "### 2-9 지도 시가화 도구 Folium"
   ]
  },
  {
   "cell_type": "code",
   "execution_count": null,
   "metadata": {},
   "outputs": [],
   "source": [
    "try:\n",
    "    import folium\n",
    "except ModuleNotFoundError:\n",
    "    !pip install folium\n",
    "    import folium"
   ]
  },
  {
   "cell_type": "code",
   "execution_count": null,
   "metadata": {},
   "outputs": [],
   "source": [
    "map_osm =folium.Map(location=[45.5236, -122.6750], zoom_start=10, tiles=\"Stamen Toner\")\n",
    "map_osm"
   ]
  },
  {
   "cell_type": "markdown",
   "metadata": {},
   "source": [
    "#### folium(Map, Marker, Circle, CircleMarker) +add_to(map)"
   ]
  },
  {
   "cell_type": "code",
   "execution_count": null,
   "metadata": {},
   "outputs": [],
   "source": [
    "map2 =folium.Map(location=[37.5502,126.982], tiles=\"Stamen Toner\", zoom_start=13)\n",
    "folium.Marker([37.5572,126.982], popup='The waterfront').add_to(map2)\n",
    "\n",
    "folium.Circle([37.5522,126932], radius=70, popup='Laurelfurst Park').add_to(map2)\n",
    "folium.CircleMarker([37.5402,126.882], radius=40, popup='Laurelfurst Park', color=\"#3186cc\",\n",
    "                   fill_color='#3186cc').add_to(map2)\n",
    "map2"
   ]
  },
  {
   "cell_type": "code",
   "execution_count": null,
   "metadata": {},
   "outputs": [],
   "source": [
    "import folium\n",
    "import pandas as pd\n",
    "state_unemployment = './data/02. folium_US_Unemployment_Oct2012.csv'\n",
    "\n",
    "state_data =pd.read_csv(state_unemployment)\n",
    "state_data.head()"
   ]
  },
  {
   "cell_type": "code",
   "execution_count": null,
   "metadata": {},
   "outputs": [],
   "source": [
    "state_geo='./data/02. folium_us-states.json'"
   ]
  },
  {
   "cell_type": "code",
   "execution_count": null,
   "metadata": {},
   "outputs": [],
   "source": [
    "import json\n",
    "with open(state_geo, 'r') as f:\n",
    "    data=f.read()"
   ]
  },
  {
   "cell_type": "code",
   "execution_count": null,
   "metadata": {},
   "outputs": [],
   "source": [
    "data"
   ]
  },
  {
   "cell_type": "code",
   "execution_count": null,
   "metadata": {},
   "outputs": [],
   "source": [
    "d=json.loads(data)\n",
    "d"
   ]
  },
  {
   "cell_type": "markdown",
   "metadata": {},
   "source": [
    "* choropleth"
   ]
  },
  {
   "cell_type": "code",
   "execution_count": null,
   "metadata": {},
   "outputs": [],
   "source": [
    "map= folium.Map(location=[40,-98], zoom_start=4)\n",
    "map.choropleth(geo_data=state_geo, data = state_data,\n",
    "              columns=['State', 'Unemployment'],\n",
    "              key_on='feature.id',\n",
    "              fill_color='YlGn',\n",
    "              legend_name='Unemployment Rate(%)')\n",
    "map"
   ]
  },
  {
   "cell_type": "code",
   "execution_count": null,
   "metadata": {},
   "outputs": [],
   "source": [
    "import json\n",
    "geo_path ='./data/02. skorea_municipalities_geo_simple.json'\n",
    "geo_str =json.load(open(geo_path, encoding='utf-8'))"
   ]
  },
  {
   "cell_type": "code",
   "execution_count": null,
   "metadata": {},
   "outputs": [],
   "source": []
  },
  {
   "cell_type": "code",
   "execution_count": null,
   "metadata": {},
   "outputs": [],
   "source": []
  },
  {
   "cell_type": "code",
   "execution_count": null,
   "metadata": {},
   "outputs": [],
   "source": []
  },
  {
   "cell_type": "code",
   "execution_count": null,
   "metadata": {},
   "outputs": [],
   "source": [
    "crime_anal_raw=crime_anal_police.copy()"
   ]
  },
  {
   "cell_type": "code",
   "execution_count": null,
   "metadata": {},
   "outputs": [],
   "source": [
    "crime_anal_raw.head(1)"
   ]
  },
  {
   "cell_type": "code",
   "execution_count": null,
   "metadata": {},
   "outputs": [],
   "source": [
    "#서별 검거울, 구별 범죄 발생율 구한 뒤 데이터 두개를 Map에 중첩표현\n",
    "crime_anal_raw['lat'] =station_lat\n",
    "crime_anal_raw['lng'] =station_lng\n",
    "\n",
    "col =['살인검거','강도검거','강간검거','절도검거','폭력검거']\n",
    "tmp =crime_anal_raw[col]/crime_anal_raw[col].max()\n",
    "\n",
    "crime_anal_raw['검거']=np.sum(tmp, axis=1)\n",
    "crime_anal_raw.head()"
   ]
  },
  {
   "cell_type": "code",
   "execution_count": null,
   "metadata": {},
   "outputs": [],
   "source": [
    "map=folium.Map(location=[37.5502, 126982], zoom_start=11)\n",
    "\n",
    "for n in crime_anal_raw.index:\n",
    "    folium.Marker([crime_anal_raw['lat'][n],\n",
    "                  crime_anal_raw['lng'][n]]).add_to(map)\n",
    "map"
   ]
  },
  {
   "cell_type": "code",
   "execution_count": null,
   "metadata": {},
   "outputs": [],
   "source": []
  },
  {
   "cell_type": "code",
   "execution_count": null,
   "metadata": {},
   "outputs": [],
   "source": []
  },
  {
   "cell_type": "code",
   "execution_count": null,
   "metadata": {},
   "outputs": [],
   "source": []
  },
  {
   "cell_type": "code",
   "execution_count": null,
   "metadata": {},
   "outputs": [],
   "source": [
    "crime_anal.plot.hist()"
   ]
  },
  {
   "cell_type": "code",
   "execution_count": null,
   "metadata": {},
   "outputs": [],
   "source": [
    "crime_anal.hist()"
   ]
  },
  {
   "cell_type": "code",
   "execution_count": null,
   "metadata": {},
   "outputs": [],
   "source": []
  }
 ],
 "metadata": {
  "kernelspec": {
   "display_name": "Python 3",
   "language": "python",
   "name": "python3"
  },
  "language_info": {
   "codemirror_mode": {
    "name": "ipython",
    "version": 3
   },
   "file_extension": ".py",
   "mimetype": "text/x-python",
   "name": "python",
   "nbconvert_exporter": "python",
   "pygments_lexer": "ipython3",
   "version": "3.7.6"
  }
 },
 "nbformat": 4,
 "nbformat_minor": 2
}
